{
 "cells": [
  {
   "cell_type": "code",
   "execution_count": 1,
   "id": "23b9b161-1043-4678-97eb-1f1123bb5d2a",
   "metadata": {},
   "outputs": [
    {
     "name": "stdout",
     "output_type": "stream",
     "text": [
      "['Prostate', 'Breast_Mammary_Tissue', 'Adipose_Subcutaneous', 'Liver', 'Artery_Coronary', 'Cells_EBV_transformed_lymphocytes', 'Brain_Anterior_cingulate_cortex_BA24', 'Brain_Nucleus_accumbens_basal_ganglia', 'Brain_Substantia_nigra', 'Artery_Aorta', 'Thyroid', 'Adrenal_Gland', 'Heart_Left_Ventricle', 'Spleen', 'Esophagus_Muscularis', 'Esophagus_Gastroesophageal_Junction', 'Brain_Caudate_basal_ganglia', 'Heart_Atrial_Appendage', 'Minor_Salivary_Gland', 'Lung', 'Nerve_Tibial', 'Whole_Blood', 'Testis', 'Brain_Cortex', 'Esophagus_Mucosa', 'Fibroblasts_Prokisch', 'Uterus', 'Muscle_Skeletal', 'Brain_Cerebellar_Hemisphere', 'Small_Intestine_Terminal_Ileum', 'Pancreas', 'Brain_Putamen_basal_ganglia', 'Brain_Spinal_cord_cervical_c_1', 'Pituitary', 'Skin_Not_Sun_Exposed_Suprapubic', 'Brain_Cerebellum', 'Artery_Tibial', 'Brain_Hypothalamus', 'Skin_Sun_Exposed_Lower_leg', 'Vagina', 'Brain_Amygdala', 'Ovary', 'Brain_Frontal_Cortex_BA9', 'Adipose_Visceral_Omentum', 'Colon_Sigmoid', 'Cells_Transformed_fibroblasts', 'Stomach', 'Colon_Transverse', 'Brain_Hippocampus']\n"
     ]
    }
   ],
   "source": [
    "import os\n",
    "\n",
    "try:\n",
    "    snakemake\n",
    "except NameError:\n",
    "    from snakemk_util import load_rule_args\n",
    "    snakemake = load_rule_args(\n",
    "        snakefile = os.getcwd() + '/../Snakefile',\n",
    "        rule_name = 'liftover_glow',\n",
    "        root=os.getcwd() + \"/..\",\n",
    "    )"
   ]
  },
  {
   "cell_type": "code",
   "execution_count": 2,
   "id": "3bcd3cd3-5de8-4de1-a4fa-e0bfad0d7426",
   "metadata": {},
   "outputs": [
    {
     "name": "stdout",
     "output_type": "stream",
     "text": [
      "memory: 389120000k\n",
      "number of cores: 128\n"
     ]
    },
    {
     "data": {
      "text/html": [
       "\n",
       "            <div>\n",
       "                <p><b>SparkSession - in-memory</b></p>\n",
       "                \n",
       "        <div>\n",
       "            <p><b>SparkContext</b></p>\n",
       "\n",
       "            <p><a href=\"http://ouga07.cmm.in.tum.de:4042\">Spark UI</a></p>\n",
       "\n",
       "            <dl>\n",
       "              <dt>Version</dt>\n",
       "                <dd><code>v3.1.1</code></dd>\n",
       "              <dt>Master</dt>\n",
       "                <dd><code>local[128,4]</code></dd>\n",
       "              <dt>AppName</dt>\n",
       "                <dd><code>glow_liftover</code></dd>\n",
       "            </dl>\n",
       "        </div>\n",
       "        \n",
       "            </div>\n",
       "        "
      ],
      "text/plain": [
       "<pyspark.sql.session.SparkSession at 0x7f48b5f78040>"
      ]
     },
     "execution_count": 2,
     "metadata": {},
     "output_type": "execute_result"
    }
   ],
   "source": [
    "import os\n",
    "import pandas as pd\n",
    "import pyspark\n",
    "from pyspark.sql import SparkSession\n",
    "import pyspark.sql.types as t\n",
    "import pyspark.sql.functions as f\n",
    "import glow\n",
    "MEM = os.popen(\"ulimit -m\").read()\n",
    "if MEM.startswith(\"unlimited\"):\n",
    "    print(\"Memory not constrained, using all available memory...\")\n",
    "    import psutil\n",
    "    MEM = psutil.virtual_memory().available / 1024\n",
    "MEM = int(MEM)\n",
    "N_CPU = int(os.popen(\"nproc\").read())\n",
    "print(\"memory: %dk\" % MEM)\n",
    "print(\"number of cores: %d\" % N_CPU)\n",
    "os.environ['PYSPARK_SUBMIT_ARGS'] = \" \".join([\n",
    "    '--driver-memory %dk' % MEM,\n",
    "    'pyspark-shell'\n",
    "])\n",
    "os.environ['PYSPARK_SUBMIT_ARGS']\n",
    "MAX_FAILURES=4\n",
    "spark = (\n",
    "    SparkSession.builder\n",
    "    .appName('glow_liftover')\n",
    "    .config(\"spark.jars.packages\", \",\".join([\n",
    "        \"io.projectglow:glow-spark3_2.12:1.0.0\",\n",
    "#         \"io.delta:delta-core_2.12:0.8.0\",\n",
    "    ]))\n",
    "#    .config(\"spark.sql.extensions\", \"io.delta.sql.DeltaSparkSessionExtension\")\n",
    "#    .config(\"spark.sql.catalog.spark_catalog\", \"org.apache.spark.sql.delta.catalog.DeltaCatalog\")\n",
    "    .config(\"spark.local.dir\", os.environ.get(\"TMP\"))\n",
    "    .config(\"spark.master\", f\"local[{N_CPU},{MAX_FAILURES}]\")\n",
    "    .config(\"spark.sql.shuffle.partitions\", \"2001\")\n",
    "    .config(\"spark.sql.execution.arrow.enabled\", \"true\")\n",
    "    .config(\"spark.driver.maxResultSize\", \"48G\")\n",
    "#     .config(\"spark.databricks.io.cache.enabled\", \"true\") # only enable when local storage is actually on local SSD\n",
    "    .config(\"spark.task.maxFailures\", MAX_FAILURES)\n",
    "    .getOrCreate()\n",
    ")\n",
    "glow.register(spark)\n",
    "spark"
   ]
  },
  {
   "cell_type": "code",
   "execution_count": 3,
   "id": "5cc9d29a-eb60-46c4-b7bd-7acc5a583a81",
   "metadata": {},
   "outputs": [],
   "source": [
    "df = (\n",
    "    spark\n",
    "    .read\n",
    "    .option(\"flattenInfoFields\", False)\n",
    "    .format('vcf')\n",
    "    .load(snakemake.input['input_vcf'])\n",
    ")"
   ]
  },
  {
   "cell_type": "code",
   "execution_count": 4,
   "id": "0fc7e83e-d8c5-4df3-8c04-aac9f36faf5a",
   "metadata": {},
   "outputs": [],
   "source": [
    "# df.printSchema()"
   ]
  },
  {
   "cell_type": "code",
   "execution_count": 5,
   "id": "e1d75a88-823f-424c-b6ec-ac19de57fc5d",
   "metadata": {},
   "outputs": [],
   "source": [
    "df = df.where(\n",
    "    f.col('contigName').isin(snakemake.params['chroms'])\n",
    ")"
   ]
  },
  {
   "cell_type": "code",
   "execution_count": 6,
   "id": "e067c751-0e3b-4649-8762-01cfd7fc10cb",
   "metadata": {},
   "outputs": [],
   "source": [
    "# df = df.limit(1).persist()"
   ]
  },
  {
   "cell_type": "code",
   "execution_count": 7,
   "id": "0cb36d95-edb8-44bd-b6e2-829871b4299b",
   "metadata": {},
   "outputs": [],
   "source": [
    "# df.printSchema()\n",
    "# df.limit(10).toPandas()"
   ]
  },
  {
   "cell_type": "code",
   "execution_count": 8,
   "id": "308655c6-e27f-45d5-85e7-bf02d096b0cb",
   "metadata": {},
   "outputs": [],
   "source": [
    "df = glow.transform(\"split_multiallelics\", df)\n",
    "df = glow.transform(\"normalize_variants\", df, reference_genome_path=snakemake.input['reference_fasta'])"
   ]
  },
  {
   "cell_type": "code",
   "execution_count": 9,
   "id": "14f1a226-9576-4c90-a75d-680b787bba3f",
   "metadata": {},
   "outputs": [],
   "source": [
    "lifted_df = glow.transform('lift_over_variants', df, chain_file=snakemake.input['chain_file'], reference_file=snakemake.input['reference_fasta'])"
   ]
  },
  {
   "cell_type": "code",
   "execution_count": 10,
   "id": "75afeca0-13b2-4cde-a31b-c60d9bf1b0f1",
   "metadata": {},
   "outputs": [],
   "source": [
    "# lifted_df.limit(10).toPandas()"
   ]
  },
  {
   "cell_type": "code",
   "execution_count": 11,
   "id": "0ddb213f-9cc6-4a8c-ba9e-b4c850cd4271",
   "metadata": {},
   "outputs": [
    {
     "data": {
      "text/plain": [
       "'/s/project/kaggle-als/liftover_vcf/lifted_vcf_hg19_from_AnswerALS_subset_annovar.hg38_anno_and_geno.no_intergenic.vcf.gz'"
      ]
     },
     "execution_count": 11,
     "metadata": {},
     "output_type": "execute_result"
    }
   ],
   "source": [
    "snakemake.output['lifted_vcf']"
   ]
  },
  {
   "cell_type": "code",
   "execution_count": 12,
   "id": "a89dd102-4c1f-4626-9301-b5417de5621c",
   "metadata": {},
   "outputs": [
    {
     "name": "stderr",
     "output_type": "stream",
     "text": [
      "ERROR:py4j.java_gateway:An error occurred while trying to connect to the Java server (127.0.0.1:42607)\n",
      "Traceback (most recent call last):\n",
      "  File \"/opt/modules/i12g/anaconda/envs/florian3/lib/python3.8/site-packages/IPython/core/interactiveshell.py\", line 3437, in run_code\n",
      "    exec(code_obj, self.user_global_ns, self.user_ns)\n",
      "  File \"<ipython-input-12-911899f1c059>\", line 2, in <module>\n",
      "    lifted_df.write.format(\"vcf\").save(snakemake.output['lifted_vcf'])\n",
      "  File \"/opt/modules/i12g/anaconda/envs/florian3/lib/python3.8/site-packages/pyspark/sql/readwriter.py\", line 1109, in save\n",
      "    self._jwrite.save(path)\n",
      "  File \"/opt/modules/i12g/anaconda/envs/florian3/lib/python3.8/site-packages/py4j/java_gateway.py\", line 1304, in __call__\n",
      "    return_value = get_return_value(\n",
      "  File \"/opt/modules/i12g/anaconda/envs/florian3/lib/python3.8/site-packages/pyspark/sql/utils.py\", line 111, in deco\n",
      "    return f(*a, **kw)\n",
      "  File \"/opt/modules/i12g/anaconda/envs/florian3/lib/python3.8/site-packages/py4j/protocol.py\", line 326, in get_return_value\n",
      "    raise Py4JJavaError(\n",
      "py4j.protocol.Py4JJavaError: <unprintable Py4JJavaError object>\n",
      "\n",
      "During handling of the above exception, another exception occurred:\n",
      "\n",
      "Traceback (most recent call last):\n",
      "  File \"/opt/modules/i12g/anaconda/envs/florian3/lib/python3.8/site-packages/IPython/core/interactiveshell.py\", line 2061, in showtraceback\n",
      "    stb = value._render_traceback_()\n",
      "AttributeError: 'Py4JJavaError' object has no attribute '_render_traceback_'\n",
      "\n",
      "During handling of the above exception, another exception occurred:\n",
      "\n",
      "Traceback (most recent call last):\n",
      "  File \"/opt/modules/i12g/anaconda/envs/florian3/lib/python3.8/site-packages/py4j/java_gateway.py\", line 1200, in send_command\n",
      "    answer = smart_decode(self.stream.readline()[:-1])\n",
      "  File \"/opt/modules/i12g/anaconda/envs/florian3/lib/python3.8/socket.py\", line 669, in readinto\n",
      "    return self._sock.recv_into(b)\n",
      "ConnectionResetError: [Errno 104] Connection reset by peer\n",
      "\n",
      "During handling of the above exception, another exception occurred:\n",
      "\n",
      "Traceback (most recent call last):\n",
      "  File \"/opt/modules/i12g/anaconda/envs/florian3/lib/python3.8/site-packages/py4j/java_gateway.py\", line 1033, in send_command\n",
      "    response = connection.send_command(command)\n",
      "  File \"/opt/modules/i12g/anaconda/envs/florian3/lib/python3.8/site-packages/py4j/java_gateway.py\", line 1211, in send_command\n",
      "    raise Py4JNetworkError(\n",
      "py4j.protocol.Py4JNetworkError: Error while receiving\n",
      "\n",
      "During handling of the above exception, another exception occurred:\n",
      "\n",
      "Traceback (most recent call last):\n",
      "  File \"/opt/modules/i12g/anaconda/envs/florian3/lib/python3.8/site-packages/py4j/java_gateway.py\", line 977, in _get_connection\n",
      "    connection = self.deque.pop()\n",
      "IndexError: pop from an empty deque\n",
      "\n",
      "During handling of the above exception, another exception occurred:\n",
      "\n",
      "Traceback (most recent call last):\n",
      "  File \"/opt/modules/i12g/anaconda/envs/florian3/lib/python3.8/site-packages/py4j/java_gateway.py\", line 1115, in start\n",
      "    self.socket.connect((self.address, self.port))\n",
      "ConnectionRefusedError: [Errno 111] Connection refused\n",
      "\n",
      "During handling of the above exception, another exception occurred:\n",
      "\n",
      "Traceback (most recent call last):\n",
      "  File \"/opt/modules/i12g/anaconda/envs/florian3/lib/python3.8/site-packages/py4j/java_gateway.py\", line 977, in _get_connection\n",
      "    connection = self.deque.pop()\n",
      "IndexError: pop from an empty deque\n",
      "\n",
      "During handling of the above exception, another exception occurred:\n",
      "\n",
      "Traceback (most recent call last):\n",
      "  File \"/opt/modules/i12g/anaconda/envs/florian3/lib/python3.8/site-packages/py4j/java_gateway.py\", line 1115, in start\n",
      "    self.socket.connect((self.address, self.port))\n",
      "ConnectionRefusedError: [Errno 111] Connection refused\n",
      "\n",
      "During handling of the above exception, another exception occurred:\n",
      "\n",
      "Traceback (most recent call last):\n",
      "  File \"/opt/modules/i12g/anaconda/envs/florian3/lib/python3.8/site-packages/py4j/java_gateway.py\", line 977, in _get_connection\n",
      "    connection = self.deque.pop()\n",
      "IndexError: pop from an empty deque\n",
      "\n",
      "During handling of the above exception, another exception occurred:\n",
      "\n",
      "Traceback (most recent call last):\n",
      "  File \"/opt/modules/i12g/anaconda/envs/florian3/lib/python3.8/site-packages/py4j/java_gateway.py\", line 1115, in start\n",
      "    self.socket.connect((self.address, self.port))\n",
      "ConnectionRefusedError: [Errno 111] Connection refused\n",
      "\n",
      "During handling of the above exception, another exception occurred:\n",
      "\n",
      "Traceback (most recent call last):\n",
      "  File \"/opt/modules/i12g/anaconda/envs/florian3/lib/python3.8/site-packages/py4j/java_gateway.py\", line 977, in _get_connection\n",
      "    connection = self.deque.pop()\n",
      "IndexError: pop from an empty deque\n",
      "\n",
      "During handling of the above exception, another exception occurred:\n",
      "\n",
      "Traceback (most recent call last):\n",
      "  File \"/opt/modules/i12g/anaconda/envs/florian3/lib/python3.8/site-packages/py4j/java_gateway.py\", line 1115, in start\n",
      "    self.socket.connect((self.address, self.port))\n",
      "ConnectionRefusedError: [Errno 111] Connection refused\n",
      "\n",
      "During handling of the above exception, another exception occurred:\n",
      "\n",
      "Traceback (most recent call last):\n",
      "  File \"/opt/modules/i12g/anaconda/envs/florian3/lib/python3.8/site-packages/py4j/java_gateway.py\", line 977, in _get_connection\n",
      "    connection = self.deque.pop()\n",
      "IndexError: pop from an empty deque\n",
      "\n",
      "During handling of the above exception, another exception occurred:\n",
      "\n",
      "Traceback (most recent call last):\n",
      "  File \"/opt/modules/i12g/anaconda/envs/florian3/lib/python3.8/site-packages/py4j/java_gateway.py\", line 1115, in start\n",
      "    self.socket.connect((self.address, self.port))\n",
      "ConnectionRefusedError: [Errno 111] Connection refused\n",
      "\n",
      "During handling of the above exception, another exception occurred:\n",
      "\n",
      "Traceback (most recent call last):\n",
      "  File \"/opt/modules/i12g/anaconda/envs/florian3/lib/python3.8/site-packages/py4j/java_gateway.py\", line 977, in _get_connection\n",
      "    connection = self.deque.pop()\n",
      "IndexError: pop from an empty deque\n",
      "\n",
      "During handling of the above exception, another exception occurred:\n",
      "\n",
      "Traceback (most recent call last):\n",
      "  File \"/opt/modules/i12g/anaconda/envs/florian3/lib/python3.8/site-packages/py4j/java_gateway.py\", line 1115, in start\n",
      "    self.socket.connect((self.address, self.port))\n",
      "ConnectionRefusedError: [Errno 111] Connection refused\n",
      "\n",
      "During handling of the above exception, another exception occurred:\n",
      "\n",
      "Traceback (most recent call last):\n",
      "  File \"/opt/modules/i12g/anaconda/envs/florian3/lib/python3.8/site-packages/py4j/java_gateway.py\", line 977, in _get_connection\n",
      "    connection = self.deque.pop()\n",
      "IndexError: pop from an empty deque\n",
      "\n",
      "During handling of the above exception, another exception occurred:\n",
      "\n",
      "Traceback (most recent call last):\n",
      "  File \"/opt/modules/i12g/anaconda/envs/florian3/lib/python3.8/site-packages/py4j/java_gateway.py\", line 1115, in start\n",
      "    self.soc