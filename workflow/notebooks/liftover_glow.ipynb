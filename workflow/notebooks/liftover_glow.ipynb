{
 "cells": [
  {
   "cell_type": "code",
   "execution_count": 1,
   "id": "e6f13c36-241e-41e3-ab4f-b179656b912d",
   "metadata": {},
   "outputs": [],
   "source": [
    "import os\n",
    "\n",
    "import json\n",
    "import yaml\n",
    "\n",
    "import pandas as pd\n",
    "import pyspark\n",
    "from pyspark.sql import SparkSession\n",
    "import pyspark.sql.types as t\n",
    "import pyspark.sql.functions as f\n",
    "\n",
    "import glow"
   ]
  },
  {
   "cell_type": "code",
   "execution_count": 2,
   "id": "81affc2b-a680-4196-8bf6-c55b4fdaedc6",
   "metadata": {},
   "outputs": [
    {
     "data": {
      "text/plain": [
       "'/data/nasif12/home_if12/hoelzlwi/Projects/ALS/workflow/notebooks/../Snakefile'"
      ]
     },
     "execution_count": 2,
     "metadata": {},
     "output_type": "execute_result"
    }
   ],
   "source": [
    "snakefile_path = os.getcwd() + \"/../Snakefile\"\n",
    "snakefile_path"
   ]
  },
  {
   "cell_type": "code",
   "execution_count": 3,
   "id": "1cad6b17-3e86-4bdf-b96e-8741665f4cd5",
   "metadata": {},
   "outputs": [],
   "source": [
    "# del snakemake"
   ]
  },
  {
   "cell_type": "code",
   "execution_count": 4,
   "id": "74ca9f49-d876-4382-b702-197714670630",
   "metadata": {},
   "outputs": [
    {
     "name": "stdout",
     "output_type": "stream",
     "text": [
      "['Prostate', 'Breast_Mammary_Tissue', 'Adipose_Subcutaneous', 'Liver', 'Artery_Coronary', 'Cells_EBV_transformed_lymphocytes', 'Brain_Anterior_cingulate_cortex_BA24', 'Brain_Nucleus_accumbens_basal_ganglia', 'Brain_Substantia_nigra', 'Artery_Aorta', 'Thyroid', 'Adrenal_Gland', 'Heart_Left_Ventricle', 'Spleen', 'Esophagus_Muscularis', 'Esophagus_Gastroesophageal_Junction', 'Brain_Caudate_basal_ganglia', 'Heart_Atrial_Appendage', 'Minor_Salivary_Gland', 'Lung', 'Nerve_Tibial', 'Whole_Blood', 'Testis', 'Brain_Cortex', 'Esophagus_Mucosa', 'Fibroblasts_Prokisch', 'Uterus', 'Muscle_Skeletal', 'Brain_Cerebellar_Hemisphere', 'Small_Intestine_Terminal_Ileum', 'Pancreas', 'Brain_Putamen_basal_ganglia', 'Brain_Spinal_cord_cervical_c_1', 'Pituitary', 'Skin_Not_Sun_Exposed_Suprapubic', 'Brain_Cerebellum', 'Artery_Tibial', 'Brain_Hypothalamus', 'Skin_Sun_Exposed_Lower_leg', 'Vagina', 'Brain_Amygdala', 'Ovary', 'Brain_Frontal_Cortex_BA9', 'Adipose_Visceral_Omentum', 'Colon_Sigmoid', 'Cells_Transformed_fibroblasts', 'Stomach', 'Colon_Transverse', 'Brain_Hippocampus']\n"
     ]
    }
   ],
   "source": [
    "try:\n",
    "    snakemake\n",
    "except NameError:\n",
    "    from snakemk_util import load_rule_args\n",
    "    \n",
    "    snakemake = load_rule_args(\n",
    "        snakefile = snakefile_path,\n",
    "        rule_name = 'liftover_glow',\n",
    "        default_wildcards={\n",
    "#             'ds_dir': 'noCAT_samplefilter_maxol20_privvar'\n",
    "            'ds_dir': 'gtex_noCAT_samplefilter_maxol20_privvar'\n",
    "        }\n",
    "    )"
   ]
  },
  {
   "cell_type": "code",
   "execution_count": 5,
   "id": "0e3775a4-c6e7-494f-af26-d38331573c98",
   "metadata": {},
   "outputs": [
    {
     "name": "stdout",
     "output_type": "stream",
     "text": [
      "{\n",
      "  \"resources\": {\n",
      "    \"_cores\": 1,\n",
      "    \"_nodes\": 1,\n",
      "    \"mem_mb\": 40960,\n",
      "    \"threads\": 10\n",
      "  },\n",
      "  \"input\": {\n",
      "    \"chain_file\": \"/s/raw/ucsc/hg38/liftOver/hg38ToHg19.over.chain.gz\",\n",
      "    \"input_vcf\": \"/s/raw/als/kaggle/end-als/genomics-data/AnswerALS_subset_annovar.hg38_anno_and_geno.no_intergenic.vcf.gz\",\n",
      "    \"reference_fasta\": \"/s/project/kaggle-als/GRCh37.p13.genome.fa\",\n",
      "    \"reference_fasta_hg38\": \"/s/genomes/human/hg38/GRCh38.primary_assembly.genome.fa\"\n",
      "  },\n",
      "  \"params\": {\n",
      "    \"max_records_in_ram\": 50000,\n",
      "    \"chroms\": [\n",
      "      \"chr1\",\n",
      "      \"chr2\",\n",
      "      \"chr3\",\n",
      "      \"chr4\",\n",
      "      \"chr5\",\n",
      "      \"chr6\",\n",
      "      \"chr7\",\n",
      "      \"chr8\",\n",
      "      \"chr9\",\n",
      "      \"chr10\",\n",
      "      \"chr11\",\n",
      "      \"chr12\",\n",
      "      \"chr13\",\n",
      "      \"chr14\",\n",
      "      \"chr15\",\n",
      "      \"chr16\",\n",
      "      \"chr17\",\n",
      "      \"chr18\",\n",
      "      \"chr19\",\n",
      "      \"chr20\",\n",
      "      \"chr21\",\n",
      "      \"chr22\",\n",
      "      \"chrX\"\n",
      "    ]\n",
      "  },\n",
      "  \"output\": {\n",
      "    \"normalized_vcf_pq\": \"/s/project/kaggle-als/liftover_vcf/normalized_vcf_hg38.parquet\",\n",
      "    \"lifted_vcf\": \"/s/project/kaggle-als/liftover_vcf/lifted_vcf_hg19_from_AnswerALS_subset_annovar.hg38_anno_and_geno.no_intergenic.vcf.gz\",\n",
      "    \"refected_vcf\": \"/s/project/kaggle-als/liftover_vcf/rejected_variants_from_liftover.vcf\"\n",
      "  },\n",
      "  \"wildcards\": {\n",
      "    \"ds_dir\": \"gtex_noCAT_samplefilter_maxol20_privvar\"\n",
      "  }\n",
      "}\n"
     ]
    }
   ],
   "source": [
    "print(json.dumps(snakemake.__dict__, indent=2))"
   ]
  },
  {
   "cell_type": "code",
   "execution_count": 6,
   "id": "familiar-minority",
   "metadata": {},
   "outputs": [],
   "source": [
    "import os\n",
    "\n",
    "try:\n",
    "    snakemake\n",
    "except NameError:\n",
    "    from snakemk_util import load_rule_args\n",
    "    snakemake = load_rule_args(\n",
    "        snakefile = os.getcwd() + '/../Snakefile',\n",
    "        rule_name = 'liftover_glow',\n",
    "        root=os.getcwd() + \"/..\",\n",
    "    )"
   ]
  },
  {
   "cell_type": "code",
   "execution_count": 7,
   "id": "d6ce2b7d-d543-437c-981d-55d25cef0550",
   "metadata": {},
   "outputs": [
    {
     "name": "stdout",
     "output_type": "stream",
     "text": [
      "memory: 1024000000k\n",
      "number of cores: 256\n"
     ]
    }
   ],
   "source": [
    "MEM = os.popen(\"ulimit -m\").read()\n",
    "if MEM.startswith(\"unlimited\"):\n",
    "    print(\"Memory not constrained, using all available memory...\")\n",
    "    import psutil\n",
    "    MEM = psutil.virtual_memory().available / 1024\n",
    "MEM = int(MEM)\n",
    "N_CPU = int(os.popen(\"nproc\").read())\n",
    "print(\"memory: %dk\" % MEM)\n",
    "print(\"number of cores: %d\" % N_CPU)"
   ]
  },
  {
   "cell_type": "code",
   "execution_count": 8,
   "id": "875154e1-f79b-4328-b91f-60312533fb3b",
   "metadata": {},
   "outputs": [
    {
     "data": {
      "text/html": [
       "\n",
       "            <div>\n",
       "                <p><b>SparkSession - in-memory</b></p>\n",
       "                \n",
       "        <div>\n",
       "            <p><b>SparkContext</b></p>\n",
       "\n",
       "            <p><a href=\"http://ouga07.cmm.in.tum.de:4042\">Spark UI</a></p>\n",
       "\n",
       "            <dl>\n",
       "              <dt>Version</dt>\n",
       "                <dd><code>v3.1.1</code></dd>\n",
       "              <dt>Master</dt>\n",
       "                <dd><code>local[256,4]</code></dd>\n",
       "              <dt>AppName</dt>\n",
       "                <dd><code>glow_liftover</code></dd>\n",
       "            </dl>\n",
       "        </div>\n",
       "        \n",
       "            </div>\n",
       "        "
      ],
      "text/plain": [
       "<pyspark.sql.session.SparkSession at 0x7f4963efa070>"
      ]
     },
     "execution_count": 8,
     "metadata": {},
     "output_type": "execute_result"
    }
   ],
   "source": [
    "os.environ['PYSPARK_SUBMIT_ARGS'] = \" \".join([\n",
    "    '--driver-memory %dk' % MEM,\n",
    "    'pyspark-shell'\n",
    "])\n",
    "os.environ['PYSPARK_SUBMIT_ARGS']\n",
    "MAX_FAILURES=4\n",
    "spark = (\n",
    "    SparkSession.builder\n",
    "    .appName('glow_liftover')\n",
    "    .config(\"spark.jars.packages\", \",\".join([\n",
    "        \"io.projectglow:glow-spark3_2.12:1.0.0\",\n",
    "#         \"io.delta:delta-core_2.12:0.8.0\",\n",
    "    ]))\n",
    "#    .config(\"spark.sql.extensions\", \"io.delta.sql.DeltaSparkSessionExtension\")\n",
    "#    .config(\"spark.sql.catalog.spark_catalog\", \"org.apache.spark.sql.delta.catalog.DeltaCatalog\")\n",
    "    .config(\"spark.local.dir\", os.environ.get(\"TMP\"))\n",
    "    .config(\"spark.master\", f\"local[{N_CPU},{MAX_FAILURES}]\")\n",
    "    .config(\"spark.sql.shuffle.partitions\", \"2001\")\n",
    "#     .config(\"spark.sql.execution.arrow.enabled\", \"true\")\n",
    "    .config(\"spark.sql.execution.arrow.pyspark.enabled\", \"true\")\n",
    "#     .config(\"spark.sql.execution.useObjectHashAggregateExec\", \"false\")\n",
    "#     .config(\"spark.network.timeout\", \"1800s\")\n",
    "    .config(\"spark.driver.maxResultSize\", \"48G\")\n",
    "    .config(\"spark.default.parallelism\", N_CPU / 2)\n",
    "    .config(\"spark.files.maxPartitionBytes\", 33554432)\n",
    "#     .config(\"spark.databricks.io.cache.enabled\", \"true\") # only enable when local storage is actually on local SSD\n",
    "    .config(\"spark.task.maxFailures\", MAX_FAILURES)\n",
    "    .getOrCreate()\n",
    ")\n",
    "glow.register(spark)\n",
    "spark"
   ]
  },
  {
   "cell_type": "code",
   "execution_count": 9,
   "id": "numerical-highland",
   "metadata": {},
   "outputs": [],
   "source": [
    "df = (\n",
    "    spark\n",
    "    .read\n",
    "    .option(\"flattenInfoFields\", False)\n",
    "    .format('vcf')\n",
    "    .load(snakemake.input['input_vcf'])\n",
    ")"
   ]
  },
  {
   "cell_type": "code",
   "execution_count": 10,
   "id": "3e485eac-2d89-45ce-bb09-c679aa75c00e",
   "metadata": {},
   "outputs": [],
   "source": [
    "df = df.drop(\"attributes\")"
   ]
  },
  {
   "cell_type": "code",
   "execution_count": 11,
   "id": "085f73c8-4caf-43ee-ac84-54db2be3991e",
   "metadata": {},
   "outputs": [
    {
     "name": "stdout",
     "output_type": "stream",
     "text": [
      "root\n",
      " |-- contigName: string (nullable = true)\n",
      " |-- start: long (nullable = true)\n",
      " |-- end: long (nullable = true)\n",
      " |-- names: array (nullable = true)\n",
      " |    |-- element: string (containsNull = true)\n",
      " |-- referenceAllele: string (nullable = true)\n",
      " |-- alternateAlleles: array (nullable = true)\n",
      " |    |-- element: string (containsNull = true)\n",
      " |-- qual: double (nullable = true)\n",
      " |-- filters: array (nullable = true)\n",
      " |    |-- element: string (containsNull = true)\n",
      " |-- splitFromMultiAllelic: boolean (nullable = true)\n",
      " |-- genotypes: array (nullable = true)\n",
      " |    |-- element: struct (containsNull = true)\n",
      " |    |    |-- sampleId: string (nullable = true)\n",
      " |    |    |-- conditionalQuality: integer (nullable = true)\n",
      " |    |    |-- MQ0: integer (nullable = true)\n",
      " |    |    |-- alleleDepths: array (nullable = true)\n",
      " |    |    |    |-- element: integer (containsNull = true)\n",
      " |    |    |-- PID: string (nullable = true)\n",
      " |    |    |-- phased: boolean (nullable = true)\n",
      " |    |    |-- calls: array (nullable = true)\n",
      " |    |    |    |-- element: integer (containsNull = true)\n",
      " |    |    |-- PGT: string (nullable = true)\n",
      " |    |    |-- phredLikelihoods: array (nullable = true)\n",
      " |    |    |    |-- element: integer (containsNull = true)\n",
      " |    |    |-- depth: integer (nullable = true)\n",
      " |    |    |-- AB: double (nullable = true)\n",
      "\n"
     ]
    }
   ],
   "source": [
    "df.printSchema()"
   ]
  },
  {
   "cell_type": "code",
   "execution_count": 13,
   "id": "executed-priority",
   "metadata": {},
   "outputs": [],
   "source": [
    "df = df.where(\n",
    "    f.col('contigName').isin(snakemake.params['chroms'])\n",
    ")"
   ]
  },
  {
   "cell_type": "code",
   "execution_count": 14,
   "id": "e44a09cc-28e4-40ff-9632-b4ee163b639b",
   "metadata": {},
   "outputs": [],
   "source": [
    "df = glow.transform(\"split_multiallelics\", df)\n",
    "df = glow.transform(\"normalize_variants\", df, reference_genome_path=snakemake.input['reference_fasta_hg38'])"
   ]
  },
  {
   "cell_type": "code",
   "execution_count": 15,
   "id": "violent-mentor",
   "metadata": {},
   "outputs": [],
   "source": [
    "# sort by chromosome and by location\n",
    "df = (\n",
    "   df\n",
    "   .repartitionByRange(2048, f.col(\"contigName\"), f.col(\"start\"))\n",
    "   .sortWithinPartitions([\"contigName\", \"start\"])\n",
    "   .persist()\n",
    ")"
   ]
  },
  {
   "cell_type": "code",
   "execution_count": 9,
   "id": "24630f82-7936-4272-abd4-bf348aaceaa7",
   "metadata": {},
   "outputs": [
    {
     "data": {
      "text/plain": [
       "'/s/project/kaggle-als/liftover_vcf/normalized_vcf_hg38.parquet'"
      ]
     },
     "execution_count": 9,
     "metadata": {},
     "output_type": "execute_result"
    }
   ],
   "source": [
    "OUTPUT_VCF_PQ_PATH = snakemake.output[\"normalized_vcf_pq\"]\n",
    "OUTPUT_VCF_PQ_PATH"
   ]
  },
  {
   "cell_type": "code",
   "execution_count": 18,
   "id": "3bed2931-21ea-4dbb-a6dc-9aea1ee66303",
   "metadata": {},
   "outputs": [],
   "source": [
    "(\n",
    "    df\n",
    "    .write\n",
    "    .parquet(OUTPUT_VCF_PQ_PATH, mode=\"overwrite\", partitionBy=[\"contigName\", ])\n",
    ")"
   ]
  },
  {
   "cell_type": "code",
   "execution_count": 10,
   "id": "65d29934-684b-46a9-8de8-5dfe9d1989f5",
   "metadata": {},
   "outputs": [],
   "source": [
    "df = (\n",
    "    spark\n",
    "    .read\n",
    "    .format(\"parquet\")\n",
    "    .load(OUTPUT_VCF_PQ_PATH)\n",
    ")"
   ]
  },
  {
   "cell_type": "code",
   "execution_count": 11,
   "id": "4bdb4d25-5bc5-4ff4-a45a-11315967cbd4",
   "metadata": {},
   "outputs": [
    {
     "data": {
      "text/plain": [
       "174"
      ]
     },
     "execution_count": 11,
     "metadata": {},
     "output_type": "execute_result"
    }
   ],
   "source": [
    "df.rdd.getNumPartitions()"
   ]
  },
  {
   "cell_type": "code",
   "execution_count": 12,
   "id": "proof-florence",
   "metadata": {},
   "outputs": [
    {
     "name": "stdout",
     "output_type": "stream",
     "text": [
      "root\n",
      " |-- start: long (nullable = true)\n",
      " |-- end: long (nullable = true)\n",
      " |-- names: array (nullable = true)\n",
      " |    |-- element: string (containsNull = true)\n",
      " |-- referenceAllele: string (nullable = true)\n",
      " |-- alternateAlleles: array (nullable = true)\n",
      " |    |-- element: string (containsNull = true)\n",
      " |-- qual: double (nullable = true)\n",
      " |-- filters: array (nullable = true)\n",
      " |    |-- element: string (containsNull = true)\n",
      " |-- splitFromMultiAllelic: boolean (nullable = true)\n",
      " |-- INFO_OLD_MULTIALLELIC: string (nullable = true)\n",
      " |-- genotypes: array (nullable = true)\n",
      " |    |-- element: struct (containsNull = true)\n",
      " |    |    |-- sampleId: string (nullable = true)\n",
      " |    |    |-- conditionalQuality: integer (nullable = true)\n",
      " |    |    |-- MQ0: integer (nullable = true)\n",
      " |    |    |-- alleleDepths: array (nullable = true)\n",
      " |    |    |    |-- element: integer (containsNull = true)\n",
      " |    |    |-- PID: string (nullable = true)\n",
      " |    |    |-- phased: boolean (nullable = true)\n",
      " |    |    |-- calls: array (nullable = true)\n",
      " |    |    |    |-- element: integer (containsNull = true)\n",
      " |    |    |-- PGT: string (nullable = true)\n",
      " |    |    |-- phredLikelihoods: array (nullable = true)\n",
      " |    |    |    |-- element: integer (containsNull = true)\n",
      " |    |    |-- depth: integer (nullable = true)\n",
      " |    |    |-- AB: double (nullable = true)\n",
      " |-- normalizationStatus: struct (nullable = true)\n",
      " |    |-- changed: boolean (nullable = true)\n",
      " |    |-- errorMessage: string (nullable = true)\n",
      " |-- contigName: string (nullable = true)\n",
      "\n"
     ]
    }
   ],
   "source": [
    "df.printSchema()"
   ]
  },
  {
   "cell_type": "code",
   "execution_count": 13,
   "id": "bigger-discipline",
   "metadata": {},
   "outputs": [],
   "source": [
    "lifted_df = glow.transform('lift_over_variants', df, chain_file=snakemake.input['chain_file'], reference_file=snakemake.input['reference_fasta'])"
   ]
  },
  {
   "cell_type": "code",
   "execution_count": 14,
   "id": "a85de9f3-9c64-4317-a49b-e54c2e1ac1a5",
   "metadata": {},
   "outputs": [
    {
     "name": "stdout",
     "output_type": "stream",
     "text": [
      "root\n",
      " |-- start: long (nullable = true)\n",
      " |-- end: long (nullable = true)\n",
      " |-- names: array (nullable = true)\n",
      " |    |-- element: string (containsNull = true)\n",
      " |-- referenceAllele: string (nullable = true)\n",
      " |-- alternateAlleles: array (nullable = true)\n",
      " |    |-- element: string (containsNull = true)\n",
      " |-- qual: double (nullable = true)\n",
      " |-- filters: array (nullable = true)\n",
      " |    |-- element: string (containsNull = true)\n",
      " |-- splitFromMultiAllelic: boolean (nullable = true)\n",
      " |-- INFO_OLD_MULTIALLELIC: string (nullable = true)\n",
      " |-- genotypes: array (nullable = true)\n",
      " |    |-- element: struct (containsNull = true)\n",
      " |    |    |-- sampleId: string (nullable = true)\n",
      " |    |    |-- conditionalQuality: integer (nullable = true)\n",
      " |    |    |-- MQ0: integer (nullable = true)\n",
      " |    |    |-- alleleDepths: array (nullable = true)\n",
      " |    |    |    |-- element: integer (containsNull = true)\n",
      " |    |    |-- PID: string (nullable = true)\n",
      " |    |    |-- phased: boolean (nullable = true)\n",
      " |    |    |-- calls: array (nullable = true)\n",
      " |    |    |    |-- element: integer (containsNull = true)\n",
      " |    |    |-- PGT: string (nullable = true)\n",
      " |    |    |-- phredLikelihoods: array (nullable = true)\n",
      " |    |    |    |-- element: integer (containsNull = true)\n",
      " |    |    |-- depth: integer (nullable = true)\n",
      " |    |    |-- AB: double (nullable = true)\n",
      " |-- normalizationStatus: struct (nullable = true)\n",
      " |    |-- changed: boolean (nullable = true)\n",
      " |    |-- errorMessage: string (nullable = true)\n",
      " |-- contigName: string (nullable = true)\n",
      " |-- INFO_SwappedAlleles: boolean (nullable = true)\n",
      " |-- INFO_ReverseComplementedAlleles: boolean (nullable = true)\n",
      " |-- liftOverStatus: struct (nullable = true)\n",
      " |    |-- success: boolean (nullable = true)\n",
      " |    |-- errorMessage: string (nullable = true)\n",
      "\n"
     ]
    }
   ],
   "source": [
    "lifted_df.printSchema()"
   ]
  },
  {
   "cell_type": "code",
   "execution_count": 15,
   "id": "funny-bonus",
   "metadata": {},
   "outputs": [],
   "source": [
    "# lifted_df.write.format(\"bigvcf\").save(snakemake.output['lifted_vcf'])\n",
    "lifted_df.write.format(\"vcf\").mode(\"overwrite\").save(snakemake.output['lifted_vcf'])"
   ]
  },
  {
   "cell_type": "code",
   "execution_count": null,
   "id": "e3dea12d-e00b-4820-904d-2de184fbcc0a",
   "metadata": {},
   "outputs": [],
   "source": []
  }
 ],
 "metadata": {
  "jupytext": {
   "formats": "ipynb,py:percent",
   "text_representation": {
    "extension": ".py",
    "format_name": "percent",
    "format_version": "1.3",
    "jupytext_version": "1.10.2"
   }
  },
  "kernelspec": {
   "display_name": "Python [conda env:anaconda-florian3]",
   "language": "python",
   "name": "conda-env-anaconda-florian3-py"
  },
  "language_info": {
   "codemirror_mode": {
    "name": "ipython",
    "version": 3
   },
   "file_extension": ".py",
   "mimetype": "text/x-python",
   "name": "python",
   "nbconvert_exporter": "python",
   "pygments_lexer": "ipython3",
   "version": "3.8.8"
  }
 },
 "nbformat": 4,
 "nbformat_minor": 5
}
