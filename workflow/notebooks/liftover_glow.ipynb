{
 "cells": [
  {
   "cell_type": "code",
   "execution_count": 1,
   "id": "23b9b161-1043-4678-97eb-1f1123bb5d2a",
   "metadata": {},
   "outputs": [
    {
     "name": "stdout",
     "output_type": "stream",
     "text": [
      "['Prostate', 'Breast_Mammary_Tissue', 'Adipose_Subcutaneous', 'Liver', 'Artery_Coronary', 'Cells_EBV_transformed_lymphocytes', 'Brain_Anterior_cingulate_cortex_BA24', 'Brain_Nucleus_accumbens_basal_ganglia', 'Brain_Substantia_nigra', 'Artery_Aorta', 'Thyroid', 'Adrenal_Gland', 'Heart_Left_Ventricle', 'Spleen', 'Esophagus_Muscularis', 'Esophagus_Gastroesophageal_Junction', 'Brain_Caudate_basal_ganglia', 'Heart_Atrial_Appendage', 'Minor_Salivary_Gland', 'Lung', 'Nerve_Tibial', 'Whole_Blood', 'Testis', 'Brain_Cortex', 'Esophagus_Mucosa', 'Fibroblasts_Prokisch', 'Uterus', 'Muscle_Skeletal', 'Brain_Cerebellar_Hemisphere', 'Small_Intestine_Terminal_Ileum', 'Pancreas', 'Brain_Putamen_basal_ganglia', 'Brain_Spinal_cord_cervical_c_1', 'Pituitary', 'Skin_Not_Sun_Exposed_Suprapubic', 'Brain_Cerebellum', 'Artery_Tibial', 'Brain_Hypothalamus', 'Skin_Sun_Exposed_Lower_leg', 'Vagina', 'Brain_Amygdala', 'Ovary', 'Brain_Frontal_Cortex_BA9', 'Adipose_Visceral_Omentum', 'Colon_Sigmoid', 'Cells_Transformed_fibroblasts', 'Stomach', 'Colon_Transverse', 'Brain_Hippocampus']\n"
     ]
    }
   ],
   "source": [
    "import os\n",
    "\n",
    "try:\n",
    "    snakemake\n",
    "except NameError:\n",
    "    from snakemk_util import load_rule_args\n",
    "    snakemake = load_rule_args(\n",
    "        snakefile = os.getcwd() + '/../Snakefile',\n",
    "        rule_name = 'liftover_glow',\n",
    "        root=os.getcwd() + \"/..\",\n",
    "    )"
   ]
  },
  {
   "cell_type": "code",
   "execution_count": 2,
   "id": "3bcd3cd3-5de8-4de1-a4fa-e0bfad0d7426",
   "metadata": {},
   "outputs": [
    {
     "name": "stdout",
     "output_type": "stream",
     "text": [
      "memory: 1024000000k\n",
      "number of cores: 256\n"
     ]
    },
    {
     "data": {
      "text/html": [
       "\n",
       "            <div>\n",
       "                <p><b>SparkSession - in-memory</b></p>\n",
       "                \n",
       "        <div>\n",
       "            <p><b>SparkContext</b></p>\n",
       "\n",
       "            <p><a href=\"http://ouga07.cmm.in.tum.de:4042\">Spark UI</a></p>\n",
       "\n",
       "            <dl>\n",
       "              <dt>Version</dt>\n",
       "                <dd><code>v3.1.1</code></dd>\n",
       "              <dt>Master</dt>\n",
       "                <dd><code>local[256,4]</code></dd>\n",
       "              <dt>AppName</dt>\n",
       "                <dd><code>glow_liftover</code></dd>\n",
       "            </dl>\n",
       "        </div>\n",
       "        \n",
       "            </div>\n",
       "        "
      ],
      "text/plain": [
       "<pyspark.sql.session.SparkSession at 0x7f78f5d449d0>"
      ]
     },
     "execution_count": 2,
     "metadata": {},
     "output_type": "execute_result"
    }
   ],
   "source": [
    "import os\n",
    "import pandas as pd\n",
    "import pyspark\n",
    "from pyspark.sql import SparkSession\n",
    "import pyspark.sql.types as t\n",
    "import pyspark.sql.functions as f\n",
    "import glow\n",
    "MEM = os.popen(\"ulimit -m\").read()\n",
    "if MEM.startswith(\"unlimited\"):\n",
    "    print(\"Memory not constrained, using all available memory...\")\n",
    "    import psutil\n",
    "    MEM = psutil.virtual_memory().available / 1024\n",
    "MEM = int(MEM)\n",
    "N_CPU = int(os.popen(\"nproc\").read())\n",
    "print(\"memory: %dk\" % MEM)\n",
    "print(\"number of cores: %d\" % N_CPU)\n",
    "os.environ['PYSPARK_SUBMIT_ARGS'] = \" \".join([\n",
    "    '--driver-memory %dk' % MEM,\n",
    "    'pyspark-shell'\n",
    "])\n",
    "os.environ['PYSPARK_SUBMIT_ARGS']\n",
    "MAX_FAILURES=4\n",
    "spark = (\n",
    "    SparkSession.builder\n",
    "    .appName('glow_liftover')\n",
    "    .config(\"spark.jars.packages\", \",\".join([\n",
    "        \"io.projectglow:glow-spark3_2.12:1.0.0\",\n",
    "#         \"io.delta:delta-core_2.12:0.8.0\",\n",
    "    ]))\n",
    "#    .config(\"spark.sql.extensions\", \"io.delta.sql.DeltaSparkSessionExtension\")\n",
    "#    .config(\"spark.sql.catalog.spark_catalog\", \"org.apache.spark.sql.delta.catalog.DeltaCatalog\")\n",
    "    .config(\"spark.local.dir\", os.environ.get(\"TMP\"))\n",
    "    .config(\"spark.master\", f\"local[{N_CPU},{MAX_FAILURES}]\")\n",
    "    .config(\"spark.sql.shuffle.partitions\", \"2001\")\n",
    "#     .config(\"spark.sql.execution.arrow.enabled\", \"true\")\n",
    "    .config(\"spark.sql.execution.arrow.pyspark.enabled\", \"true\")\n",
    "#     .config(\"spark.sql.execution.useObjectHashAggregateExec\", \"false\")\n",
    "    .config(\"spark.network.timeout\", \"1800s\")\n",
    "    .config(\"spark.driver.maxResultSize\", \"48G\")\n",
    "    .config(\"spark.files.maxPartitionBytes\", 33554432)\n",
    "#     .config(\"spark.databricks.io.cache.enabled\", \"true\") # only enable when local storage is actually on local SSD\n",
    "    .config(\"spark.task.maxFailures\", MAX_FAILURES)\n",
    "    .getOrCreate()\n",
    ")\n",
    "glow.register(spark)\n",
    "spark"
   ]
  },
  {
   "cell_type": "code",
   "execution_count": 3,
   "id": "5cc9d29a-eb60-46c4-b7bd-7acc5a583a81",
   "metadata": {},
   "outputs": [],
   "source": [
    "df = (\n",
    "    spark\n",
    "    .read\n",
    "    .option(\"flattenInfoFields\", False)\n",
    "    .format('vcf')\n",
    "    .load(snakemake.input['input_vcf'])\n",
    ")"
   ]
  },
  {
   "cell_type": "code",
   "execution_count": 4,
   "id": "a8126846-2a94-499c-9118-cce33e3b1d04",
   "metadata": {},
   "outputs": [],
   "source": [
    "df = df.where(\n",
    "    f.col('contigName').isin(snakemake.params['chroms'])\n",
    ")"
   ]
  },
  {
   "cell_type": "code",
   "execution_count": 5,
   "id": "f1e889d0-27c2-4062-a12b-3a9cb06c8ce8",
   "metadata": {},
   "outputs": [],
   "source": [
    "# sort by chromosome and by location\n",
    "df = (\n",
    "   df\n",
    "   .repartitionByRange(4096, f.col(\"contigName\"), f.col(\"start\"))\n",
    "   .sortWithinPartitions([\"contigName\", \"start\"])\n",
    "   .persist()\n",
    ")"
   ]
  },
  {
   "cell_type": "code",
   "execution_count": 6,
   "id": "0fc7e83e-d8c5-4df3-8c04-aac9f36faf5a",
   "metadata": {},
   "outputs": [],
   "source": [
    "# df.printSchema()"
   ]
  },
  {
   "cell_type": "code",
   "execution_count": 9,
   "id": "9877189c-a35a-42d4-96be-fc9224d1a03f",
   "metadata": {},
   "outputs": [],
   "source": [
    "# df.rdd.getNumPartitions()"
   ]
  },
  {
   "cell_type": "code",
   "execution_count": 10,
   "id": "308655c6-e27f-45d5-85e7-bf02d096b0cb",
   "metadata": {},
   "outputs": [],
   "source": [
    "df = glow.transform(\"split_multiallelics\", df)\n",
    "df = glow.transform(\"normalize_variants\", df, reference_genome_path=snakemake.input['reference_fasta'])"
   ]
  },
  {
   "cell_type": "code",
   "execution_count": 11,
   "id": "14f1a226-9576-4c90-a75d-680b787bba3f",
   "metadata": {},
   "outputs": [],
   "source": [
    "lifted_df = glow.transform('lift_over_variants', df, chain_file=snakemake.input['chain_file'], reference_file=snakemake.input['reference_fasta'])"
   ]
  },
  {
   "cell_type": "code",
   "execution_count": 15,
   "id": "a89dd102-4c1f-4626-9301-b5417de5621c",
   "metadata": {},
   "outputs": [
    {
     "name": "stderr",
     "output_type": "stream",
     "text": [
      "ERROR:root:Exception while sending command.\n",
      "Traceback (most recent call last):\n",
      "  File \"/opt/modules/i12g/anaconda/envs/florian3/lib/python3.8/site-packages/py4j/java_gateway.py\", line 1207, in send_command\n",
      "    raise Py4JNetworkError(\"Answer from Java side is empty\")\n",
      "py4j.protocol.Py4JNetworkError: Answer from Java side is empty\n",
      "\n",
      "During handling of the above exception, another exception occurred:\n",
      "\n",
      "Traceback (most recent call last):\n",
      "  File \"/opt/modules/i12g/anaconda/envs/florian3/lib/python3.8/site-packages/py4j/java_gateway.py\", line 1033, in send_command\n",
      "    response = connection.send_command(command)\n",
      "  File \"/opt/modules/i12g/anaconda/envs/florian3/lib/python3.8/site-packages/py4j/java_gateway.py\", line 1211, in send_command\n",
      "    raise Py4JNetworkError(\n",
      "py4j.protocol.Py4JNetworkError: Error while receiving\n"
     ]
    },
    {
     "ename": "Py4JError",
     "evalue": "An error occurred while calling o127.save",
     "output_type": "error",
     "traceback": [
      "\u001b[0;31m---------------------------------------------------------------------------\u001b[0m",
      "\u001b[0;31mPy4JError\u001b[0m                                 Traceback (most recent call last)",
      "\u001b[0;32m<ipython-input-15-911899f1c059>\u001b[0m in \u001b[0;36m<module>\u001b[0;34m\u001b[0m\n\u001b[1;32m      1\u001b[0m \u001b[0;31m# lifted_df.write.format(\"bigvcf\").save(snakemake.output['lifted_vcf'])\u001b[0m\u001b[0;34m\u001b[0m\u001b[0;34m\u001b[0m\u001b[0;34m\u001b[0m\u001b[0m\n\u001b[0;32m----> 2\u001b[0;31m \u001b[0mlifted_df\u001b[0m\u001b[0;34m.\u001b[0m\u001b[0mwrite\u001b[0m\u001b[0;34m.\u001b[0m\u001b[0mformat\u001b[0m\u001b[0;34m(\u001b[0m\u001b[0;34m\"vcf\"\u001b[0m\u001b[0;34m)\u001b[0m\u001b[0;34m.\u001b[0m\u001b[0msave\u001b[0m\u001b[0;34m(\u001b[0m\u001b[0msnakemake\u001b[0m\u001b[0;34m.\u001b[0m\u001b[0moutput\u001b[0m\u001b[0;34m[\u001b[0m\u001b[0;34m'lifted_vcf'\u001b[0m\u001b[0;34m]\u001b[0m\u001b[0;34m)\u001b[0m\u001b[0;34m\u001b[0m\u001b[0;34m\u001b[0m\u001b[0m\n\u001b[0m",
      "\u001b[0;32m/opt/modules/i12g/anaconda/envs/florian3/lib/python3.8/site-packages/pyspark/sql/readwriter.py\u001b[0m in \u001b[0;36msave\u001b[0;34m(self, path, format, mode, partitionBy, **options)\u001b[0m\n\u001b[1;32m   1107\u001b[0m             \u001b[0mself\u001b[0m\u001b[0;34m.\u001b[0m\u001b[0m_jwrite\u001b[0m\u001b[0;34m.\u001b[0m\u001b[0msave\u001b[0m\u001b[0;34m(\u001b[0m\u001b[0;34m)\u001b[0m\u001b[0;34m\u001b[0m\u001b[0;34m\u001b[0m\u001b[0m\n\u001b[1;32m   1108\u001b[0m         \u001b[0;32melse\u001b[0m\u001b[0;34m:\u001b[0m\u001b[0;34m\u001b[0m\u001b[0;34m\u001b[0m\u001b[0m\n\u001b[0;32m-> 1109\u001b[0;31m             \u001b[0mself\u001b[0m\u001b[0;34m.\u001b[0m\u001b[0m_jwrite\u001b[0m\u001b[0;34m.\u001b[0m\u001b[0msave\u001b[0m\u001b[0;34m(\u001b[0m\u001b[0mpath\u001b[0m\u001b[0;34m)\u001b[0m\u001b[0;34m\u001b[0m\u001b[0;34m\u001b[0m\u001b[0m\n\u001b[0m\u001b[1;32m   1110\u001b[0m \u001b[0;34m\u001b[0m\u001b[0m\n\u001b[1;32m   1111\u001b[0m     \u001b[0;34m@\u001b[0m\u001b[0msince\u001b[0m\u001b[0;34m(\u001b[0m\u001b[0;36m1.4\u001b[0m\u001b[0;34m)\u001b[0m\u001b[0;34m\u001b[0m\u001b[0;34m\u001b[0m\u001b[0m\n",
      "\u001b[0;32m/opt/modules/i12g/anaconda/envs/florian3/lib/python3.8/site-packages/py4j/java_gateway.py\u001b[0m in \u001b[0;36m__call__\u001b[0;34m(self, *args)\u001b[0m\n\u001b[1;32m   1302\u001b[0m \u001b[0;34m\u001b[0m\u001b[0m\n\u001b[1;32m   1303\u001b[0m         \u001b[0manswer\u001b[0m \u001b[0;34m=\u001b[0m \u001b[0mself\u001b[0m\u001b[0;34m.\u001b[0m\u001b[0mgateway_client\u001b[0m\u001b[0;34m.\u001b[0m\u001b[0msend_command\u001b[0m\u001b[0;34m(\u001b[0m\u001b[0mcommand\u001b[0m\u001b[0;34m)\u001b[0m\u001b[0;34m\u001b[0m\u001b[0;34m\u001b[0m\u001b[0m\n\u001b[0;32m-> 1304\u001b[0;31m         return_value = get_return_value(\n\u001b[0m\u001b[1;32m   1305\u001b[0m             answer, self.gateway_client, self.target_id, self.name)\n\u001b[1;32m   1306\u001b[0m \u001b[0;34m\u001b[0m\u001b[0m\n",
      "\u001b[0;32m/opt/modules/i12g/anaconda/envs/florian3/lib/python3.8/site-packages/pyspark/sql/utils.py\u001b[0m in \u001b[0;36mdeco\u001b[0;34m(*a, **kw)\u001b[0m\n\u001b[1;32m    109\u001b[0m     \u001b[0;32mdef\u001b[0m \u001b[0mdeco\u001b[0m\u001b[0;34m(\u001b[0m\u001b[0;34m*\u001b[0m\u001b[0ma\u001b[0m\u001b[0;34m,\u001b[0m \u001b[0;34m**\u001b[0m\u001b[0mkw\u001b[0m\u001b[0;34m)\u001b[0m\u001b[0;34m:\u001b[0m\u001b[0;34m\u001b[0m\u001b[0;34m\u001b[0m\u001b[0m\n\u001b[1;32m    110\u001b[0m         \u001b[0;32mtry\u001b[0m\u001b[0;34m:\u001b[0m\u001b[0;34m\u001b[0m\u001b[0;34m\u001b[0m\u001b[0m\n\u001b[0;32m--> 111\u001b[0;31m             \u001b[0;32mreturn\u001b[0m \u001b[0mf\u001b[0m\u001b[0;34m(\u001b[0m\u001b[0;34m*\u001b[0m\u001b[0ma\u001b[0m\u001b[0;34m,\u001b[0m \u001b[0;34m**\u001b[0m\u001b[0mkw\u001b[0m\u001b[0;34m)\u001b[0m\u001b[0;34m\u001b[0m\u001b[0;34m\u001b[0m\u001b[0m\n\u001b[0m\u001b[1;32m    112\u001b[0m         \u001b[0;32mexcept\u001b[0m \u001b[0mpy4j\u001b[0m\u001b[0;34m.\u001b[0m\u001b[0mprotocol\u001b[0m\u001b[0;34m.\u001b[0m\u001b[0mPy4JJavaError\u001b[0m \u001b[0;32mas\u001b[0m \u001b[0me\u001b[0m\u001b[0;34m:\u001b[0m\u001b[0;34m\u001b[0m\u001b[0;34m\u001b[0m\u001b[0m\n\u001b[1;32m    113\u001b[0m             \u001b[0mconverted\u001b[0m \u001b[0;34m=\u001b[0m \u001b[0mconvert_exception\u001b[0m\u001b[0;34m(\u001b[0m\u001b[0me\u001b[0m\u001b[0;34m.\u001b[0m\u001b[0mjava_exception\u001b[0m\u001b[0;34m)\u001b[0m\u001b[0;34m\u001b[0m\u001b[0;34m\u001b[0m\u001b[0m\n",
      "\u001b[0;32m/opt/modules/i12g/anaconda/envs/florian3/lib/python3.8/site-packages/py4j/protocol.py\u001b[0m in \u001b[0;36mget_return_value\u001b[0;34m(answer, gateway_client, target_id, name)\u001b[0m\n\u001b[1;32m    332\u001b[0m                     format(target_id, \".\", name, value))\n\u001b[1;32m    333\u001b[0m         \u001b[0;32melse\u001b[0m\u001b[0;34m:\u001b[0m\u001b[0;34m\u001b[0m\u001b[0;34m\u001b[0m\u001b[0m\n\u001b[0;32m--> 334\u001b[0;31m             raise Py4JError(\n\u001b[0m\u001b[1;32m    335\u001b[0m                 \u001b[0;34m\"An error occurred while calling {0}{1}{2}\"\u001b[0m\u001b[0;34m.\u001b[0m\u001b[0;34m\u001b[0m\u001b[0;34m\u001b[0m\u001b[0m\n\u001b[1;32m    336\u001b[0m                 format(target_id, \".\", name))\n",
      "\u001b[0;31mPy4JError\u001b[0m: An error occurred while calling o127.save"
     ]
    }
   ],
   "source": [
    "# lifted_df.write.format(\"bigvcf\").save(snakemake.output['lifted_vcf'])\n",
    "lifted_df.write.format(\"vcf\").save(snakemake.output['lifted_vcf'])"
   ]
  }
 ],
 "metadata": {
  "jupytext": {
   "formats": "ipynb,py:percent"
  },
  "kernelspec": {
   "display_name": "Python [conda env:anaconda-florian3]",
   "language": "python",
   "name": "conda-env-anaconda-florian3-py"
  },
  "language_info": {
   "codemirror_mode": {
    "name": "ipython",
    "version": 3
   },
   "file_extension": ".py",
   "mimetype": "text/x-python",
   "name": "python",
   "nbconvert_exporter": "python",
   "pygments_lexer": "ipython3",
   "version": "3.8.8"
  }
 },
 "nbformat": 4,
 "nbformat_minor": 5
}
