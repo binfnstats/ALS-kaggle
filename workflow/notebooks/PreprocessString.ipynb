{
 "cells": [
  {
   "cell_type": "code",
   "execution_count": null,
   "id": "767ded6c-6a55-4de1-b44a-8b42174678bc",
   "metadata": {},
   "outputs": [],
   "source": [
    "import os\n",
    "import pandas as pd\n",
    "from pyensembl import EnsemblRelease"
   ]
  },
  {
   "cell_type": "code",
   "execution_count": null,
   "id": "ee43bf94-e4de-404d-bfd1-7c970bed59a6",
   "metadata": {},
   "outputs": [],
   "source": [
    "snakefile_path = os.getcwd() + \"/../Snakefile\"\n",
    "snakefile_path"
   ]
  },
  {
   "cell_type": "code",
   "execution_count": null,
   "id": "909f029f-62ac-43ed-9802-8cce68e31f1a",
   "metadata": {},
   "outputs": [],
   "source": [
    "try:\n",
    "    snakemake\n",
    "except NameError:\n",
    "    from snakemk_util import load_rule_args\n",
    "\n",
    "    snakemake = load_rule_args(\n",
    "        snakefile = snakefile_path,\n",
    "        rule_name = 'ppi_preprocess_string',\n",
    "        root=\"../\",\n",
    "    )"
   ]
  },
  {
   "cell_type": "code",
   "execution_count": null,
   "id": "30a33b26-b83d-4782-bcb2-3710052d2a97",
   "metadata": {},
   "outputs": [],
   "source": [
    "release_no = snakemake.params['release']\n",
    "input_string_db = snakemake.input['db']\n",
    "output_string_db = snakemake.output['db']"
   ]
  },
  {
   "cell_type": "code",
   "execution_count": null,
   "id": "572103b2-432c-4b9e-b249-8286a0053cf4",
   "metadata": {},
   "outputs": [],
   "source": [
    "string_db = pd.read_csv(input_string_db, sep = ' ')"
   ]
  },
  {
   "cell_type": "code",
   "execution_count": null,
   "id": "3786eb08-9bf7-4aa2-a774-84ff5956a12c",
   "metadata": {},
   "outputs": [],
   "source": [
    "string_db.head()"
   ]
  },
  {
   "cell_type": "code",
   "execution_count": null,
   "id": "5ff51a30-6da7-426e-8ec3-1c67cd52f417",
   "metadata": {},
   "outputs": [],
   "source": [
    "string_db.protein1 = string_db.protein1.str.split('.').str[1]\n",
    "string_db.protein2 = string_db.protein2.str.split('.').str[1]"
   ]
  },
  {
   "cell_type": "code",
   "execution_count": null,
   "id": "854d787f-6835-4ad9-a189-d3cf0844954e",
   "metadata": {},
   "outputs": [],
   "source": [
    "ens = EnsemblRelease(release_no)"
   ]
  },
  {
   "cell_type": "code",
   "execution_count": null,
   "id": "8329ca25-26f6-4448-a7e6-59d02e99bf4e",
   "metadata": {},
   "outputs": [],
   "source": [
    "# Test if retrieving protein ID is possible\n",
    "\n",
    "ens.gene_id_of_protein_id(string_db.protein1[0])"
   ]
  },
  {
   "cell_type": "code",
   "execution_count": null,
   "id": "e5269f6d-9f5f-4665-b77a-746996e163c0",
   "metadata": {},
   "outputs": [],
   "source": [
    "def convert_to_gene(prot):\n",
    "    try:\n",
    "        return ens.gene_id_of_protein_id(prot)\n",
    "    except:\n",
    "        return None"
   ]
  },
  {
   "cell_type": "code",
   "execution_count": null,
   "id": "64ee623c-4cd1-45c7-b652-16e9c13e32ac",
   "metadata": {},
   "outputs": [],
   "source": [
    "string_db['gene1'] = string_db.protein1.apply(convert_to_gene)"
   ]
  },
  {
   "cell_type": "code",
   "execution_count": null,
   "id": "c2ff53f8-45d4-47d1-a9f9-6047582f08cf",
   "metadata": {},
   "outputs": [],
   "source": [
    "string_db['gene2'] = string_db.protein2.apply(convert_to_gene)"
   ]
  },
  {
   "cell_type": "markdown",
   "id": "315ed398-32d8-47fb-81d7-aa2103c5fd22",
   "metadata": {},
   "source": [
    "## Save processed STRING database"
   ]
  },
  {
   "cell_type": "code",
   "execution_count": null,
   "id": "dad16459-6ab4-4ea2-921a-5b0f580fccc8",
   "metadata": {},
   "outputs": [],
   "source": [
    "string_db.to_csv(output_string_db, sep = '\\t', index=False, compression='gzip')"
   ]
  },
  {
   "cell_type": "markdown",
   "id": "66866cac-bb6c-43f8-bc55-5ca1ea636c4f",
   "metadata": {},
   "source": [
    "## Explore dataset"
   ]
  },
  {
   "cell_type": "code",
   "execution_count": null,
   "id": "607e6c2c-f800-4526-9c37-f827577b1e5f",
   "metadata": {},
   "outputs": [],
   "source": [
    "number_of_interactions = string_db.shape[0]"
   ]
  },
  {
   "cell_type": "code",
   "execution_count": null,
   "id": "f80edb84-7ecf-462d-9ee0-c3147bdc89fb",
   "metadata": {},
   "outputs": [],
   "source": [
    "string_db.head()"
   ]
  },
  {
   "cell_type": "code",
   "execution_count": null,
   "id": "8f317c99-ce47-470e-a95d-e791b6629417",
   "metadata": {},
   "outputs": [],
   "source": [
    "string_db.dropna().shape[0]"
   ]
  },
  {
   "cell_type": "code",
   "execution_count": null,
   "id": "3d2e07fe-f399-499b-8e4e-95d7c45c9390",
   "metadata": {},
   "outputs": [],
   "source": [
    "number_of_interactions"
   ]
  },
  {
   "cell_type": "code",
   "execution_count": null,
   "id": "55c8ac50-daed-4c0b-9c2a-4187b5143a9b",
   "metadata": {},
   "outputs": [],
   "source": [
    "string_db.query('combined_score > 900')"
   ]
  }
 ],
 "metadata": {
  "kernelspec": {
   "display_name": "Python [conda env:anaconda-als]",
   "language": "python",
   "name": "conda-env-anaconda-als-py"
  },
  "language_info": {
   "codemirror_mode": {
    "name": "ipython",
    "version": 3
   },
   "file_extension": ".py",
   "mimetype": "text/x-python",
   "name": "python",
   "nbconvert_exporter": "python",
   "pygments_lexer": "ipython3",
   "version": "3.7.10"
  }
 },
 "nbformat": 4,
 "nbformat_minor": 5
}
