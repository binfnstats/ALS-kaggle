{
 "cells": [
  {
   "cell_type": "code",
   "execution_count": null,
   "id": "316e14a4-9773-4cfe-944a-561cb644c5a8",
   "metadata": {},
   "outputs": [],
   "source": [
    "import os\n",
    "import numpy as np\n",
    "import scipy\n",
    "import pandas as pd\n",
    "import networkx as nx"
   ]
  },
  {
   "cell_type": "code",
   "execution_count": null,
   "id": "3a626705-c945-4db6-992e-3fa011153998",
   "metadata": {},
   "outputs": [],
   "source": [
    "os.getcwd()"
   ]
  },
  {
   "cell_type": "code",
   "execution_count": null,
   "id": "5c509d77-06c4-4b6a-b4ef-f2eb86e7b17a",
   "metadata": {},
   "outputs": [],
   "source": [
    "snakefile_path = os.getcwd() + \"/../Snakefile\""
   ]
  },
  {
   "cell_type": "code",
   "execution_count": null,
   "id": "0448d5e7-8349-4243-96d4-fe5b4ba16f16",
   "metadata": {},
   "outputs": [],
   "source": [
    "try:\n",
    "    snakemake\n",
    "except NameError:\n",
    "    from snakemk_util import load_rule_args\n",
    "\n",
    "    snakemake = load_rule_args(\n",
    "        snakefile = snakefile_path,\n",
    "        rule_name = 'ppi_random_walk',\n",
    "        root=\"../\",\n",
    "    )"
   ]
  },
  {
   "cell_type": "code",
   "execution_count": null,
   "id": "f1056e0c-deca-4a91-83b4-85f9adc10fcf",
   "metadata": {},
   "outputs": [],
   "source": [
    "input_lit_genes = snakemake.input['lit_rev_genes']\n",
    "input_string_db = snakemake.input['string_db']\n",
    "output_gene_seed_prob = snakemake.output['gene_seed_prob']"
   ]
  },
  {
   "cell_type": "code",
   "execution_count": null,
   "id": "ef4ceec5-3d4a-4ccd-b55d-ddf6e48765f0",
   "metadata": {},
   "outputs": [],
   "source": [
    "known_genes = pd.read_csv(input_lit_genes)\n",
    "known_genes.head()"
   ]
  },
  {
   "cell_type": "code",
   "execution_count": null,
   "id": "f0bdfc9e-1675-428c-8c38-302601756975",
   "metadata": {},
   "outputs": [],
   "source": [
    "unique_known_genes = np.unique(known_genes.Ensembl_gene_ID)"
   ]
  },
  {
   "cell_type": "code",
   "execution_count": null,
   "id": "05512e3e-ea6d-464d-99a8-8947dcf195e5",
   "metadata": {},
   "outputs": [],
   "source": [
    "len(unique_known_genes)"
   ]
  },
  {
   "cell_type": "code",
   "execution_count": null,
   "id": "89a5a9c6-c7ed-4ecd-b780-879f644e3427",
   "metadata": {},
   "outputs": [],
   "source": [
    "edges = pd.read_csv(input_string_db, sep='\\t')"
   ]
  },
  {
   "cell_type": "code",
   "execution_count": null,
   "id": "a558d111-fc64-424b-b458-327bc0cba3d5",
   "metadata": {},
   "outputs": [],
   "source": [
    "edges.head()"
   ]
  },
  {
   "cell_type": "code",
   "execution_count": null,
   "id": "0e027a84-8cc1-41f6-a745-326d270d125c",
   "metadata": {},
   "outputs": [],
   "source": [
    "edges"
   ]
  },
  {
   "cell_type": "code",
   "execution_count": null,
   "id": "9399bc99-0920-4ebf-9ada-0ac93dda7170",
   "metadata": {},
   "outputs": [],
   "source": [
    "edges = edges.dropna()"
   ]
  },
  {
   "cell_type": "code",
   "execution_count": null,
   "id": "c4c6d454-bdba-4f28-bea7-71daad3f83cc",
   "metadata": {},
   "outputs": [],
   "source": [
    "%%time\n",
    "string_graph = nx.from_pandas_edgelist(edges, 'gene1', 'gene2', 'combined_score')"
   ]
  },
  {
   "cell_type": "code",
   "execution_count": null,
   "id": "cdbd8fe8-1174-4cd0-845b-c64b48ca8252",
   "metadata": {},
   "outputs": [],
   "source": [
    "genes = pd.DataFrame({'gene_id': string_graph.nodes()})"
   ]
  },
  {
   "cell_type": "code",
   "execution_count": null,
   "id": "57ee5e52-133e-4743-9bc2-591b99b9c000",
   "metadata": {},
   "outputs": [],
   "source": [
    "genes"
   ]
  },
  {
   "cell_type": "code",
   "execution_count": null,
   "id": "24b46140-0ac0-49fa-b148-dcaae8315625",
   "metadata": {},
   "outputs": [],
   "source": [
    "idx_of_seeds = genes[np.isin(genes.gene_id, unique_known_genes)].index"
   ]
  },
  {
   "cell_type": "code",
   "execution_count": null,
   "id": "e4761fe9-87ac-4b6d-a8de-82f9af7ddd60",
   "metadata": {},
   "outputs": [],
   "source": [
    "p_restart = 0.3\n",
    "\n",
    "# init matrix of candidate genes\n",
    "p_init = np.zeros(len(string_graph.nodes()))\n",
    "\n",
    "p_init[idx_of_seeds] = 1"
   ]
  },
  {
   "cell_type": "code",
   "execution_count": null,
   "id": "e160c8fc-3760-43c7-8701-c08996aadbd5",
   "metadata": {},
   "outputs": [],
   "source": [
    "p_init = p_init/p_init.sum()"
   ]
  },
  {
   "cell_type": "code",
   "execution_count": null,
   "id": "7e634a75-cc1c-40a2-9630-402a000615ba",
   "metadata": {},
   "outputs": [],
   "source": [
    "\n",
    "# get adjacency matrix and normalize it to obtain transition matrix\n",
    "adj = nx.to_scipy_sparse_matrix(string_graph, weight='score')\n",
    "norm_c = scipy.sparse.diags(1/adj.sum(axis=1).A.ravel())\n",
    "adj = (norm_c @ adj)\n",
    "\n",
    "# run a few random walk iterations \n",
    "p = p_init\n",
    "for i in range(20):\n",
    "\n",
    "    p = (1 - p_restart) * adj.T @ p +  p_restart * p_init"
   ]
  },
  {
   "cell_type": "code",
   "execution_count": null,
   "id": "48e53157-8343-4e4b-b55e-d6d42838b31b",
   "metadata": {},
   "outputs": [],
   "source": [
    "genes['score'] = p"
   ]
  },
  {
   "cell_type": "code",
   "execution_count": null,
   "id": "f7897a7d-1540-47f9-b258-712bdba300e0",
   "metadata": {},
   "outputs": [],
   "source": [
    "genes"
   ]
  },
  {
   "cell_type": "markdown",
   "id": "c08707aa-8c82-4908-a7d2-ed5980c5e991",
   "metadata": {},
   "source": [
    "## Save random walk probabilities"
   ]
  },
  {
   "cell_type": "code",
   "execution_count": null,
   "id": "bf04d782-b307-46fe-a2c1-593be76c0630",
   "metadata": {},
   "outputs": [],
   "source": [
    "genes.to_csv(output_gene_seed_prob, sep = '\\t')"
   ]
  },
  {
   "cell_type": "markdown",
   "id": "86324381-26ea-4bf7-a9ff-d8a75fa7a904",
   "metadata": {},
   "source": [
    "## Plot"
   ]
  },
  {
   "cell_type": "code",
   "execution_count": null,
   "id": "8b499350-25ea-4ad0-8b91-372527eec39d",
   "metadata": {},
   "outputs": [],
   "source": [
    "import plotnine as p9"
   ]
  },
  {
   "cell_type": "code",
   "execution_count": null,
   "id": "3705d0cb-e93f-401e-a914-ef6045362df1",
   "metadata": {},
   "outputs": [],
   "source": [
    "(\n",
    "    p9.ggplot(genes, p9.aes('score')) +\n",
    "    p9.geom_histogram() +\n",
    "    p9.scale_x_log10() +\n",
    "    p9.geom_vline(xintercept = 1e-4, color = 'red'),\n",
    "    p9.theme_bw()\n",
    ")"
   ]
  },
  {
   "cell_type": "code",
   "execution_count": null,
   "id": "a15a8289-1be0-4b7c-97fd-5b5e2e96d01d",
   "metadata": {},
   "outputs": [],
   "source": []
  }
 ],
 "metadata": {
  "kernelspec": {
   "display_name": "Python [conda env:anaconda-als]",
   "language": "python",
   "name": "conda-env-anaconda-als-py"
  },
  "language_info": {
   "codemirror_mode": {
    "name": "ipython",
    "version": 3
   },
   "file_extension": ".py",
   "mimetype": "text/x-python",
   "name": "python",
   "nbconvert_exporter": "python",
   "pygments_lexer": "ipython3",
   "version": "3.7.10"
  }
 },
 "nbformat": 4,
 "nbformat_minor": 5
}
