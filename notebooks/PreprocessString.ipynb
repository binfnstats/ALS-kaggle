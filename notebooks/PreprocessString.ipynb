{
 "cells": [
  {
   "cell_type": "code",
   "execution_count": 1,
   "id": "767ded6c-6a55-4de1-b44a-8b42174678bc",
   "metadata": {},
   "outputs": [],
   "source": [
    "import os\n",
    "import pandas as pd\n",
    "from pyensembl import EnsemblRelease\n",
    "\n",
    "os.chdir('../data/processed/network_analysis/')"
   ]
  },
  {
   "cell_type": "code",
   "execution_count": 2,
   "id": "db0ed341-f52b-41e4-a657-1515c7e27ff2",
   "metadata": {},
   "outputs": [
    {
     "name": "stdout",
     "output_type": "stream",
     "text": [
      "--2021-04-30 07:18:51--  https://stringdb-static.org/download/protein.links.detailed.v11.0/9606.protein.links.detailed.v11.0.txt.gz\n",
      "Resolving stringdb-static.org (stringdb-static.org)... 151.106.34.104\n",
      "Connecting to stringdb-static.org (stringdb-static.org)|151.106.34.104|:443... connected.\n",
      "HTTP request sent, awaiting response... 200 OK\n",
      "Length: 110085813 (105M) [application/octet-stream]\n",
      "Saving to: ‘9606.protein.links.detailed.v11.0.txt.gz’\n",
      "\n",
      "9606.protein.links. 100%[===================>] 104.99M  7.53MB/s    in 16s     \n",
      "\n",
      "2021-04-30 07:19:08 (6.42 MB/s) - ‘9606.protein.links.detailed.v11.0.txt.gz’ saved [110085813/110085813]\n",
      "\n"
     ]
    }
   ],
   "source": [
    "!wget -c https://stringdb-static.org/download/protein.links.detailed.v11.0/9606.protein.links.detailed.v11.0.txt.gz"
   ]
  },
  {
   "cell_type": "code",
   "execution_count": 2,
   "id": "572103b2-432c-4b9e-b249-8286a0053cf4",
   "metadata": {},
   "outputs": [],
   "source": [
    "string_db = pd.read_csv('9606.protein.links.detailed.v11.0.txt.gz', sep = ' ')"
   ]
  },
  {
   "cell_type": "code",
   "execution_count": 3,
   "id": "3786eb08-9bf7-4aa2-a774-84ff5956a12c",
   "metadata": {},
   "outputs": [
    {
     "data": {
      "text/html": [
       "<div>\n",
       "<style scoped>\n",
       "    .dataframe tbody tr th:only-of-type {\n",
       "        vertical-align: middle;\n",
       "    }\n",
       "\n",
       "    .dataframe tbody tr th {\n",
       "        vertical-align: top;\n",
       "    }\n",
       "\n",
       "    .dataframe thead th {\n",
       "        text-align: right;\n",
       "    }\n",
       "</style>\n",
       "<table border=\"1\" class=\"dataframe\">\n",
       "  <thead>\n",
       "    <tr style=\"text-align: right;\">\n",
       "      <th></th>\n",
       "      <th>protein1</th>\n",
       "      <th>protein2</th>\n",
       "      <th>neighborhood</th>\n",
       "      <th>fusion</th>\n",
       "      <th>cooccurence</th>\n",
       "      <th>coexpression</th>\n",
       "      <th>experimental</th>\n",
       "      <th>database</th>\n",
       "      <th>textmining</th>\n",
       "      <th>combined_score</th>\n",
       "    </tr>\n",
       "  </thead>\n",
       "  <tbody>\n",
       "    <tr>\n",
       "      <th>0</th>\n",
       "      <td>9606.ENSP00000000233</td>\n",
       "      <td>9606.ENSP00000272298</td>\n",
       "      <td>0</td>\n",
       "      <td>0</td>\n",
       "      <td>332</td>\n",
       "      <td>62</td>\n",
       "      <td>181</td>\n",
       "      <td>0</td>\n",
       "      <td>125</td>\n",
       "      <td>490</td>\n",
       "    </tr>\n",
       "    <tr>\n",
       "      <th>1</th>\n",
       "      <td>9606.ENSP00000000233</td>\n",
       "      <td>9606.ENSP00000253401</td>\n",
       "      <td>0</td>\n",
       "      <td>0</td>\n",
       "      <td>0</td>\n",
       "      <td>0</td>\n",
       "      <td>186</td>\n",
       "      <td>0</td>\n",
       "      <td>56</td>\n",
       "      <td>198</td>\n",
       "    </tr>\n",
       "    <tr>\n",
       "      <th>2</th>\n",
       "      <td>9606.ENSP00000000233</td>\n",
       "      <td>9606.ENSP00000401445</td>\n",
       "      <td>0</td>\n",
       "      <td>0</td>\n",
       "      <td>0</td>\n",
       "      <td>0</td>\n",
       "      <td>159</td>\n",
       "      <td>0</td>\n",
       "      <td>0</td>\n",
       "      <td>159</td>\n",
       "    </tr>\n",
       "    <tr>\n",
       "      <th>3</th>\n",
       "      <td>9606.ENSP00000000233</td>\n",
       "      <td>9606.ENSP00000418915</td>\n",
       "      <td>0</td>\n",
       "      <td>0</td>\n",
       "      <td>0</td>\n",
       "      <td>61</td>\n",
       "      <td>158</td>\n",
       "      <td>0</td>\n",
       "      <td>542</td>\n",
       "      <td>606</td>\n",
       "    </tr>\n",
       "    <tr>\n",
       "      <th>4</th>\n",
       "      <td>9606.ENSP00000000233</td>\n",
       "      <td>9606.ENSP00000327801</td>\n",
       "      <td>0</td>\n",
       "      <td>0</td>\n",
       "      <td>0</td>\n",
       "      <td>88</td>\n",
       "      <td>78</td>\n",
       "      <td>0</td>\n",
       "      <td>89</td>\n",
       "      <td>167</td>\n",
       "    </tr>\n",
       "    <tr>\n",
       "      <th>...</th>\n",
       "      <td>...</td>\n",
       "      <td>...</td>\n",
       "      <td>...</td>\n",
       "      <td>...</td>\n",
       "      <td>...</td>\n",
       "      <td>...</td>\n",
       "      <td>...</td>\n",
       "      <td>...</td>\n",
       "      <td>...</td>\n",
       "      <td>...</td>\n",
       "    </tr>\n",
       "    <tr>\n",
       "      <th>11759449</th>\n",
       "      <td>9606.ENSP00000485678</td>\n",
       "      <td>9606.ENSP00000310488</td>\n",
       "      <td>0</td>\n",
       "      <td>0</td>\n",
       "      <td>0</td>\n",
       "      <td>167</td>\n",
       "      <td>0</td>\n",
       "      <td>0</td>\n",
       "      <td>0</td>\n",
       "      <td>167</td>\n",
       "    </tr>\n",
       "    <tr>\n",
       "      <th>11759450</th>\n",
       "      <td>9606.ENSP00000485678</td>\n",
       "      <td>9606.ENSP00000342448</td>\n",
       "      <td>0</td>\n",
       "      <td>0</td>\n",
       "      <td>0</td>\n",
       "      <td>175</td>\n",
       "      <td>0</td>\n",
       "      <td>0</td>\n",
       "      <td>0</td>\n",
       "      <td>175</td>\n",
       "    </tr>\n",
       "    <tr>\n",
       "      <th>11759451</th>\n",
       "      <td>9606.ENSP00000485678</td>\n",
       "      <td>9606.ENSP00000350222</td>\n",
       "      <td>0</td>\n",
       "      <td>0</td>\n",
       "      <td>0</td>\n",
       "      <td>195</td>\n",
       "      <td>0</td>\n",
       "      <td>0</td>\n",
       "      <td>0</td>\n",
       "      <td>195</td>\n",
       "    </tr>\n",
       "    <tr>\n",
       "      <th>11759452</th>\n",
       "      <td>9606.ENSP00000485678</td>\n",
       "      <td>9606.ENSP00000367590</td>\n",
       "      <td>0</td>\n",
       "      <td>0</td>\n",
       "      <td>0</td>\n",
       "      <td>0</td>\n",
       "      <td>0</td>\n",
       "      <td>900</td>\n",
       "      <td>0</td>\n",
       "      <td>900</td>\n",
       "    </tr>\n",
       "    <tr>\n",
       "      <th>11759453</th>\n",
       "      <td>9606.ENSP00000485678</td>\n",
       "      <td>9606.ENSP00000349930</td>\n",
       "      <td>0</td>\n",
       "      <td>0</td>\n",
       "      <td>0</td>\n",
       "      <td>213</td>\n",
       "      <td>0</td>\n",
       "      <td>0</td>\n",
       "      <td>0</td>\n",
       "      <td>213</td>\n",
       "    </tr>\n",
       "  </tbody>\n",
       "</table>\n",
       "<p>11759454 rows × 10 columns</p>\n",
       "</div>"
      ],
      "text/plain": [
       "                      protein1              protein2  neighborhood  fusion  \\\n",
       "0         9606.ENSP00000000233  9606.ENSP00000272298             0       0   \n",
       "1         9606.ENSP00000000233  9606.ENSP00000253401             0       0   \n",
       "2         9606.ENSP00000000233  9606.ENSP00000401445             0       0   \n",
       "3         9606.ENSP00000000233  9606.ENSP00000418915             0       0   \n",
       "4         9606.ENSP00000000233  9606.ENSP00000327801             0       0   \n",
       "...                        ...                   ...           ...     ...   \n",
       "11759449  9606.ENSP00000485678  9606.ENSP00000310488             0       0   \n",
       "11759450  9606.ENSP00000485678  9606.ENSP00000342448             0       0   \n",
       "11759451  9606.ENSP00000485678  9606.ENSP00000350222             0       0   \n",
       "11759452  9606.ENSP00000485678  9606.ENSP00000367590             0       0   \n",
       "11759453  9606.ENSP00000485678  9606.ENSP00000349930             0       0   \n",
       "\n",
       "          cooccurence  coexpression  experimental  database  textmining  \\\n",
       "0                 332            62           181         0         125   \n",
       "1                   0             0           186         0          56   \n",
       "2                   0             0           159         0           0   \n",
       "3                   0            61           158         0         542   \n",
       "4                   0            88            78         0          89   \n",
       "...               ...           ...           ...       ...         ...   \n",
       "11759449            0           167             0         0           0   \n",
       "11759450            0           175             0         0           0   \n",
       "11759451            0           195             0         0           0   \n",
       "11759452            0             0             0       900           0   \n",
       "11759453            0           213             0         0           0   \n",
       "\n",
       "          combined_score  \n",
       "0                    490  \n",
       "1                    198  \n",
       "2                    159  \n",
       "3                    606  \n",
       "4                    167  \n",
       "...                  ...  \n",
       "11759449             167  \n",
       "11759450             175  \n",
       "11759451             195  \n",
       "11759452             900  \n",
       "11759453             213  \n",
       "\n",
       "[11759454 rows x 10 columns]"
      ]
     },
     "execution_count": 3,
     "metadata": {},
     "output_type": "execute_result"
    }
   ],
   "source": [
    "string_db"
   ]
  },
  {
   "cell_type": "code",
   "execution_count": 4,
   "id": "5ff51a30-6da7-426e-8ec3-1c67cd52f417",
   "metadata": {},
   "outputs": [],
   "source": [
    "string_db.protein1 = string_db.protein1.str.split('.').str[1]\n",
    "string_db.protein2 = string_db.protein2.str.split('.').str[1]"
   ]
  },
  {
   "cell_type": "code",
   "execution_count": 5,
   "id": "854d787f-6835-4ad9-a189-d3cf0844954e",
   "metadata": {},
   "outputs": [],
   "source": [
    "ens = EnsemblRelease(84)"
   ]
  },
  {
   "cell_type": "code",
   "execution_count": 6,
   "id": "e5269f6d-9f5f-4665-b77a-746996e163c0",
   "metadata": {},
   "outputs": [],
   "source": [
    "def convert_to_gene(prot):\n",
    "    try:\n",
    "        return ens.gene_id_of_protein_id(prot)\n",
    "    except:\n",
    "        return None"
   ]
  },
  {
   "cell_type": "code",
   "execution_count": 7,
   "id": "64ee623c-4cd1-45c7-b652-16e9c13e32ac",
   "metadata": {},
   "outputs": [],
   "source": [
    "string_db['gene1'] = string_db.protein1.apply(convert_to_gene)"
   ]
  },
  {
   "cell_type": "code",
   "execution_count": 8,
   "id": "c2ff53f8-45d4-47d1-a9f9-6047582f08cf",
   "metadata": {},
   "outputs": [],
   "source": [
    "string_db['gene2'] = string_db.protein2.apply(convert_to_gene)"
   ]
  },
  {
   "cell_type": "code",
   "execution_count": null,
   "id": "2b1aaa6a-8bb2-451f-9ded-67e90d736d97",
   "metadata": {},
   "outputs": [],
   "source": [
    "string_db.query('combined_score > 900')"
   ]
  },
  {
   "cell_type": "code",
   "execution_count": 47,
   "id": "dad16459-6ab4-4ea2-921a-5b0f580fccc8",
   "metadata": {},
   "outputs": [],
   "source": [
    "string_db.to_csv('gene_to_gene_links.tsv', sep = '\\t', index=False)"
   ]
  },
  {
   "cell_type": "code",
   "execution_count": 44,
   "id": "607e6c2c-f800-4526-9c37-f827577b1e5f",
   "metadata": {},
   "outputs": [],
   "source": [
    "number_of_interactions = string_db.shape[0]"
   ]
  },
  {
   "cell_type": "code",
   "execution_count": 45,
   "id": "8f317c99-ce47-470e-a95d-e791b6629417",
   "metadata": {},
   "outputs": [
    {
     "data": {
      "text/plain": [
       "11291710"
      ]
     },
     "execution_count": 45,
     "metadata": {},
     "output_type": "execute_result"
    }
   ],
   "source": [
    "string_db.dropna().shape[0]"
   ]
  },
  {
   "cell_type": "code",
   "execution_count": 46,
   "id": "3d2e07fe-f399-499b-8e4e-95d7c45c9390",
   "metadata": {},
   "outputs": [
    {
     "data": {
      "text/plain": [
       "11759454"
      ]
     },
     "execution_count": 46,
     "metadata": {},
     "output_type": "execute_result"
    }
   ],
   "source": [
    "number_of_interactions"
   ]
  },
  {
   "cell_type": "code",
   "execution_count": null,
   "id": "d3e8c8a0-53d3-4ac4-a66e-6f9dbfecc84d",
   "metadata": {},
   "outputs": [],
   "source": [
    "# maybe its a good idea to save this so that you don't have to rerun it."
   ]
  },
  {
   "cell_type": "code",
   "execution_count": null,
   "id": "cc8b6c01-a26e-4baf-8a6b-337db3693882",
   "metadata": {},
   "outputs": [],
   "source": []
  },
  {
   "cell_type": "code",
   "execution_count": null,
   "id": "1dbcb70d-2f01-4648-a712-cc4da8dc9d07",
   "metadata": {},
   "outputs": [],
   "source": []
  },
  {
   "cell_type": "code",
   "execution_count": null,
   "id": "94af2285-8001-4003-9b86-88269675360b",
   "metadata": {},
   "outputs": [],
   "source": []
  }
 ],
 "metadata": {
  "kernelspec": {
   "display_name": "Python [conda env:anaconda-brechtmann2021CUDA11]",
   "language": "python",
   "name": "conda-env-anaconda-brechtmann2021CUDA11-py"
  },
  "language_info": {
   "codemirror_mode": {
    "name": "ipython",
    "version": 3
   },
   "file_extension": ".py",
   "mimetype": "text/x-python",
   "name": "python",
   "nbconvert_exporter": "python",
   "pygments_lexer": "ipython3",
   "version": "3.8.8"
  }
 },
 "nbformat": 4,
 "nbformat_minor": 5
}
